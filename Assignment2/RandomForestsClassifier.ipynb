{
  "nbformat": 4,
  "nbformat_minor": 0,
  "metadata": {
    "colab": {
      "provenance": [],
      "mount_file_id": "https://github.com/sandeshghule/generativeAI/blob/main/Assignment2/RandomForestsClassifier.ipynb",
      "authorship_tag": "ABX9TyNjURv/+F0XrAIbm4Ef8BRb",
      "include_colab_link": true
    },
    "kernelspec": {
      "name": "python3",
      "display_name": "Python 3"
    },
    "language_info": {
      "name": "python"
    }
  },
  "cells": [
    {
      "cell_type": "markdown",
      "metadata": {
        "id": "view-in-github",
        "colab_type": "text"
      },
      "source": [
        "<a href=\"https://colab.research.google.com/github/sandeshghule/generativeAI/blob/main/Assignment2/RandomForestsClassifier.ipynb\" target=\"_parent\"><img src=\"https://colab.research.google.com/assets/colab-badge.svg\" alt=\"Open In Colab\"/></a>"
      ]
    },
    {
      "cell_type": "code",
      "execution_count": 5,
      "metadata": {
        "colab": {
          "base_uri": "https://localhost:8080/"
        },
        "id": "Gvp82PZKgolf",
        "outputId": "ec4102a8-e171-4b93-9813-0cd575ff3c21"
      },
      "outputs": [
        {
          "output_type": "stream",
          "name": "stdout",
          "text": [
            "Accuracy: 0.9775280898876404\n",
            "F1-Score: 0.9774979935794542\n",
            "Confusion Matrix:\n",
            "[[31  2  0]\n",
            " [ 0 34  0]\n",
            " [ 0  0 22]]\n"
          ]
        }
      ],
      "source": [
        "import pandas as pd\n",
        "from sklearn.model_selection import train_test_split\n",
        "from sklearn.ensemble import RandomForestClassifier\n",
        "from sklearn.metrics import accuracy_score, f1_score, confusion_matrix\n",
        "from sklearn.datasets import load_wine\n",
        "\n",
        "# Load the wine dataset\n",
        "wine = pd.read_csv('/content/sample_data/wine.data.csv', header=None, skiprows=1)\n",
        "X = wine.iloc[:, 1:].values\n",
        "y = wine.iloc[:, 0].values\n",
        "\n",
        "# Split data into training and testing sets\n",
        "X_train, X_test, y_train, y_test = train_test_split(X, y, test_size=0.5, random_state=42)\n",
        "\n",
        "# Initialize and train a RandomForestClassifier\n",
        "rf_classifier = RandomForestClassifier(random_state=42)\n",
        "rf_classifier.fit(X_train, y_train)\n",
        "\n",
        "# Make predictions on the test set\n",
        "y_pred = rf_classifier.predict(X_test)\n",
        "\n",
        "# Evaluate the model\n",
        "accuracy = accuracy_score(y_test, y_pred)\n",
        "f1 = f1_score(y_test, y_pred, average='weighted')\n",
        "conf_matrix = confusion_matrix(y_test, y_pred)\n",
        "\n",
        "# Report the results\n",
        "print(f\"Accuracy: {accuracy}\")\n",
        "print(f\"F1-Score: {f1}\")\n",
        "print(f\"Confusion Matrix:\\n{conf_matrix}\")\n"
      ]
    }
  ]
}