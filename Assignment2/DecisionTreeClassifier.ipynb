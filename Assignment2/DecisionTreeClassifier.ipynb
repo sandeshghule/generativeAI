{
  "nbformat": 4,
  "nbformat_minor": 0,
  "metadata": {
    "colab": {
      "provenance": [],
      "authorship_tag": "ABX9TyO/aCgXhkt7OTOD7PRolTGt",
      "include_colab_link": true
    },
    "kernelspec": {
      "name": "python3",
      "display_name": "Python 3"
    },
    "language_info": {
      "name": "python"
    }
  },
  "cells": [
    {
      "cell_type": "markdown",
      "metadata": {
        "id": "view-in-github",
        "colab_type": "text"
      },
      "source": [
        "<a href=\"https://colab.research.google.com/github/sandeshghule/generativeAI/blob/main/Assignment2/DecisionTreeClassifier.ipynb\" target=\"_parent\"><img src=\"https://colab.research.google.com/assets/colab-badge.svg\" alt=\"Open In Colab\"/></a>"
      ]
    },
    {
      "cell_type": "code",
      "execution_count": 5,
      "metadata": {
        "colab": {
          "base_uri": "https://localhost:8080/"
        },
        "id": "Z6uEOO_3e5ps",
        "outputId": "8c8e8d86-7065-4701-c4d0-b7f93ab3a7cd"
      },
      "outputs": [
        {
          "output_type": "stream",
          "name": "stdout",
          "text": [
            "Decision Tree Accuracy: 0.9444444444444444\n",
            "Decision Tree F1-Score: 0.9441413851405238\n",
            "Decision Tree Confusion Matrix:\n",
            "[[18  1  0]\n",
            " [ 1 20  1]\n",
            " [ 0  0 13]]\n"
          ]
        }
      ],
      "source": [
        "import pandas as pd\n",
        "from sklearn.model_selection import train_test_split\n",
        "from sklearn.tree import DecisionTreeClassifier\n",
        "from sklearn.metrics import accuracy_score, f1_score, confusion_matrix\n",
        "from sklearn import datasets\n",
        "\n",
        "# Load the wine dataset\n",
        "wine = pd.read_csv('/content/sample_data/wine.data.csv', header=None, skiprows=1)\n",
        "X = wine.iloc[:, 1:].values\n",
        "y = wine.iloc[:, 0].values\n",
        "\n",
        "# Divide data into training and testing sets\n",
        "X_train, X_test, y_train, y_test = train_test_split(X, y, test_size=0.3, random_state=0)\n",
        "\n",
        "# Apply Decision Tree classifier\n",
        "dt_classifier = DecisionTreeClassifier()\n",
        "dt_classifier.fit(X_train, y_train)\n",
        "y_pred = dt_classifier.predict(X_test)\n",
        "\n",
        "# Evaluate the model\n",
        "accuracy = accuracy_score(y_test, y_pred)\n",
        "f1 = f1_score(y_test, y_pred, average='weighted') # Use weighted average for multi-class\n",
        "conf_matrix = confusion_matrix(y_test, y_pred)\n",
        "\n",
        "print(f\"Decision Tree Accuracy: {accuracy}\")\n",
        "print(f\"Decision Tree F1-Score: {f1}\")\n",
        "print(f\"Decision Tree Confusion Matrix:\\n{conf_matrix}\")\n"
      ]
    }
  ]
}