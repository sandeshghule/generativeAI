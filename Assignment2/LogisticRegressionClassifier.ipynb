{
  "nbformat": 4,
  "nbformat_minor": 0,
  "metadata": {
    "colab": {
      "provenance": [],
      "authorship_tag": "ABX9TyMkgdXCzNnWsHX79mSo/W/g",
      "include_colab_link": true
    },
    "kernelspec": {
      "name": "python3",
      "display_name": "Python 3"
    },
    "language_info": {
      "name": "python"
    }
  },
  "cells": [
    {
      "cell_type": "markdown",
      "metadata": {
        "id": "view-in-github",
        "colab_type": "text"
      },
      "source": [
        "<a href=\"https://colab.research.google.com/github/sandeshghule/generativeAI/blob/main/Assignment2/LogisticRegressionClassifier.ipynb\" target=\"_parent\"><img src=\"https://colab.research.google.com/assets/colab-badge.svg\" alt=\"Open In Colab\"/></a>"
      ]
    },
    {
      "cell_type": "code",
      "execution_count": 6,
      "metadata": {
        "colab": {
          "base_uri": "https://localhost:8080/"
        },
        "id": "ktuqGBlNUzz8",
        "outputId": "4071f878-cf88-44cd-921d-f30ce7455b39"
      },
      "outputs": [
        {
          "output_type": "stream",
          "name": "stdout",
          "text": [
            "Accuracy: 0.9438202247191011\n",
            "F1-score: 0.9437951724224318\n",
            "Confusion Matrix:\n",
            "[[30  3  0]\n",
            " [ 2 32  0]\n",
            " [ 0  0 22]]\n"
          ]
        },
        {
          "output_type": "stream",
          "name": "stderr",
          "text": [
            "/usr/local/lib/python3.11/dist-packages/sklearn/linear_model/_logistic.py:465: ConvergenceWarning: lbfgs failed to converge (status=1):\n",
            "STOP: TOTAL NO. OF ITERATIONS REACHED LIMIT.\n",
            "\n",
            "Increase the number of iterations (max_iter) or scale the data as shown in:\n",
            "    https://scikit-learn.org/stable/modules/preprocessing.html\n",
            "Please also refer to the documentation for alternative solver options:\n",
            "    https://scikit-learn.org/stable/modules/linear_model.html#logistic-regression\n",
            "  n_iter_i = _check_optimize_result(\n"
          ]
        }
      ],
      "source": [
        "import pandas as pd\n",
        "from sklearn.model_selection import train_test_split\n",
        "from sklearn.preprocessing import StandardScaler\n",
        "from sklearn.neural_network import MLPClassifier\n",
        "from sklearn.metrics import accuracy_score, f1_score, confusion_matrix\n",
        "from sklearn.datasets import load_wine\n",
        "import numpy as np\n",
        "\n",
        "# Load the wine dataset\n",
        "wine = pd.read_csv('/content/sample_data/wine.data.csv', header=None, skiprows=1)\n",
        "X = wine.iloc[:, 1:].values\n",
        "y = wine.iloc[:, 0].values\n",
        "\n",
        "# Divide the data\n",
        "from sklearn.model_selection import train_test_split\n",
        "X_train, X_test, y_train, y_test = train_test_split(X, y, test_size=0.5, random_state=42)\n",
        "\n",
        "# Apply and train Logistic Regression\n",
        "from sklearn.linear_model import LogisticRegression\n",
        "logreg = LogisticRegression(solver='lbfgs', max_iter=1200)\n",
        "logreg.fit(X_train, y_train)\n",
        "\n",
        "# Evaluate the model\n",
        "from sklearn.metrics import accuracy_score, f1_score, confusion_matrix\n",
        "y_pred = logreg.predict(X_test)\n",
        "accuracy = accuracy_score(y_test, y_pred)\n",
        "f1 = f1_score(y_test, y_pred, average='weighted')\n",
        "conf_matrix = confusion_matrix(y_test, y_pred)\n",
        "\n",
        "print(f\"Accuracy: {accuracy}\")\n",
        "print(f\"F1-score: {f1}\")\n",
        "print(f\"Confusion Matrix:\\n{conf_matrix}\")"
      ]
    }
  ]
}