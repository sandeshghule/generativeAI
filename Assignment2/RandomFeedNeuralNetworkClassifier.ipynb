{
  "nbformat": 4,
  "nbformat_minor": 0,
  "metadata": {
    "colab": {
      "provenance": [],
      "mount_file_id": "12CiYwcZYgefA_uxxlg26Q6mKR1n48Ycl",
      "authorship_tag": "ABX9TyNLY5QaplTeC+QtMFGXy050",
      "include_colab_link": true
    },
    "kernelspec": {
      "name": "python3",
      "display_name": "Python 3"
    },
    "language_info": {
      "name": "python"
    }
  },
  "cells": [
    {
      "cell_type": "markdown",
      "metadata": {
        "id": "view-in-github",
        "colab_type": "text"
      },
      "source": [
        "<a href=\"https://colab.research.google.com/github/sandeshghule/generativeAI/blob/main/Assignment2/RandomFeedNeuralNetworkClassifier.ipynb\" target=\"_parent\"><img src=\"https://colab.research.google.com/assets/colab-badge.svg\" alt=\"Open In Colab\"/></a>"
      ]
    },
    {
      "cell_type": "code",
      "execution_count": 2,
      "metadata": {
        "colab": {
          "base_uri": "https://localhost:8080/"
        },
        "id": "Gvp82PZKgolf",
        "outputId": "c8cf5433-e24f-4b02-ddae-d46206017822"
      },
      "outputs": [
        {
          "output_type": "stream",
          "name": "stdout",
          "text": [
            "Model 1:\n",
            "Accuracy: 0.9438\n",
            "F1-score: 0.9433\n",
            "Confusion Matrix:\n",
            " [[32  1  0]\n",
            " [ 3 30  1]\n",
            " [ 0  0 22]]\n",
            "\n",
            "Model 2:\n",
            "Accuracy: 0.7826\n",
            "F1-score: 0.7808\n",
            "Confusion Matrix:\n",
            " [[50  6  0]\n",
            " [ 5 47  9]\n",
            " [13  2 29]]\n"
          ]
        }
      ],
      "source": [
        "import pandas as pd\n",
        "from sklearn.model_selection import train_test_split\n",
        "from sklearn.preprocessing import StandardScaler\n",
        "from sklearn.neural_network import MLPClassifier\n",
        "from sklearn.metrics import accuracy_score, f1_score, confusion_matrix\n",
        "import numpy as np\n",
        "\n",
        "# Load the wine dataset\n",
        "wine = pd.read_csv('/content/sample_data/wine.data.csv', header=None, skiprows=1)\n",
        "X = wine.iloc[:, 1:].values\n",
        "y = wine.iloc[:, 0].values\n",
        "\n",
        "# Separate features (X) and target variable (y)\n",
        "X = wine.iloc[:, 1:].values\n",
        "y = wine.iloc[:, 0].values\n",
        "\n",
        "\n",
        "# Split data into training and testing sets\n",
        "X_train, X_test, y_train, y_test = train_test_split(X, y, test_size=0.5, random_state=42)\n",
        "\n",
        "\n",
        "# Scale the data using StandardScaler\n",
        "scaler = StandardScaler()\n",
        "X_train = scaler.fit_transform(X_train)\n",
        "X_test = scaler.transform(X_test)\n",
        "\n",
        "\n",
        "# Define the first neural network architecture\n",
        "mlp1 = MLPClassifier(hidden_layer_sizes=(10, 5), max_iter=1000, random_state=42)\n",
        "mlp1.fit(X_train, y_train)\n",
        "\n",
        "# Make predictions on the test data\n",
        "y_pred1 = mlp1.predict(X_test)\n",
        "\n",
        "\n",
        "# Evaluate model 1\n",
        "accuracy1 = accuracy_score(y_test, y_pred1)\n",
        "f1_1 = f1_score(y_test, y_pred1, average='weighted')\n",
        "cm1 = confusion_matrix(y_test, y_pred1)\n",
        "\n",
        "print(\"Model 1:\")\n",
        "print(f\"Accuracy: {accuracy1:.4f}\")\n",
        "print(f\"F1-score: {f1_1:.4f}\")\n",
        "print(\"Confusion Matrix:\\n\", cm1)\n",
        "\n",
        "\n",
        "# Define the second neural network architecture\n",
        "X_train, X_test, y_train, y_test = train_test_split(X, y, test_size=0.9, random_state=42)\n",
        "\n",
        "mlp2 = MLPClassifier(hidden_layer_sizes=(20, 10, 5), activation='relu', solver='adam', max_iter=2000, random_state=42)\n",
        "mlp2.fit(X_train, y_train)\n",
        "\n",
        "# Make predictions on the test data\n",
        "y_pred2 = mlp2.predict(X_test)\n",
        "\n",
        "\n",
        "# Evaluate model 2\n",
        "accuracy2 = accuracy_score(y_test, y_pred2)\n",
        "f1_2 = f1_score(y_test, y_pred2, average='weighted')\n",
        "cm2 = confusion_matrix(y_test, y_pred2)\n",
        "\n",
        "print(\"\\nModel 2:\")\n",
        "print(f\"Accuracy: {accuracy2:.4f}\")\n",
        "print(f\"F1-score: {f1_2:.4f}\")\n",
        "print(\"Confusion Matrix:\\n\", cm2)\n"
      ]
    }
  ]
}